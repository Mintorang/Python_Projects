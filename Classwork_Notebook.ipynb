{
 "cells": [
  {
   "cell_type": "code",
   "execution_count": 17,
   "metadata": {},
   "outputs": [],
   "source": [
    "initial_number = 0\n"
   ]
  },
  {
   "cell_type": "code",
   "execution_count": 18,
   "metadata": {},
   "outputs": [
    {
     "name": "stdout",
     "output_type": "stream",
     "text": [
      "0\n"
     ]
    }
   ],
   "source": [
    "print(initial_number)"
   ]
  },
  {
   "cell_type": "code",
   "execution_count": 19,
   "metadata": {},
   "outputs": [
    {
     "name": "stdout",
     "output_type": "stream",
     "text": [
      "1\n",
      "3\n",
      "5\n",
      "7\n",
      "9\n"
     ]
    }
   ],
   "source": [
    "while initial_number < 10:\n",
    "    initial_number += 1\n",
    "    if initial_number % 2 ==0:\n",
    "        continue \n",
    "    print(initial_number)"
   ]
  },
  {
   "cell_type": "code",
   "execution_count": 28,
   "metadata": {},
   "outputs": [
    {
     "data": {
      "text/plain": [
       "{'Moyo': {'phone': '077657483',\n",
       "  'email': 'ehinderomdo1@gmail.com',\n",
       "  'country': 'UK'},\n",
       " 'Joshua': {'phone': '077489323234',\n",
       "  'email': 'joshua@gmail.com',\n",
       "  'country': 'UK'}}"
      ]
     },
     "execution_count": 28,
     "metadata": {},
     "output_type": "execute_result"
    }
   ],
   "source": [
    "user_details = {}\n",
    "add_more = True\n",
    "while add_more:\n",
    "    name = input(\"Enter your name:  \")\n",
    "    age = input(\"Enter your age:  \")\n",
    "    phone = input(\"Enter your phone number:  \")\n",
    "    email = input(\"Enter you email:  \")\n",
    "    country = input(\"Enter your country:  \")\n",
    "    user_details[name] = {\n",
    "        \"phone\": phone,\n",
    "        \"email\": email, \n",
    "       \"country\": country,\n",
    "    }\n",
    "    more = input(\"Do you want to add a new contact?  (y/n)\")\n",
    "    if more == \"n\":\n",
    "        add_more = False\n",
    "\n",
    "user_details"
   ]
  },
  {
   "cell_type": "code",
   "execution_count": 30,
   "metadata": {},
   "outputs": [
    {
     "data": {
      "text/plain": [
       "{'phone': '077657483', 'email': 'ehinderomdo1@gmail.com', 'country': 'UK'}"
      ]
     },
     "execution_count": 30,
     "metadata": {},
     "output_type": "execute_result"
    }
   ],
   "source": [
    "user_details[\"Moyo\"]"
   ]
  },
  {
   "cell_type": "code",
   "execution_count": 32,
   "metadata": {},
   "outputs": [
    {
     "data": {
      "text/plain": [
       "'077489323234'"
      ]
     },
     "execution_count": 32,
     "metadata": {},
     "output_type": "execute_result"
    }
   ],
   "source": [
    "user_details[\"Joshua\"][\"phone\"]"
   ]
  },
  {
   "cell_type": "code",
   "execution_count": 33,
   "metadata": {},
   "outputs": [
    {
     "data": {
      "text/plain": [
       "datetime.datetime(2023, 8, 8, 11, 45, 56, 383535)"
      ]
     },
     "execution_count": 33,
     "metadata": {},
     "output_type": "execute_result"
    }
   ],
   "source": [
    "from datetime import datetime as t\n",
    "t.now()"
   ]
  },
  {
   "cell_type": "code",
   "execution_count": 1,
   "metadata": {},
   "outputs": [
    {
     "name": "stdout",
     "output_type": "stream",
     "text": [
      "Welcome to work today p\\moo\n",
      "Welcome to work today MOtd\n",
      "Welcome to work today quit\n",
      "You have succesfully logged out\n",
      "[('p\\\\moo', '2023-08-10T11:05:17.213709+00:00'), ('MOtd', '2023-08-10T11:05:18.763927+00:00'), ('quit', '2023-08-10T11:05:20.664504+00:00')]\n"
     ]
    }
   ],
   "source": [
    "from datetime import datetime as t\n",
    "t.now()\n",
    "active = True\n",
    "work_log = []\n",
    "while active:\n",
    "    message = input(\"What is your name?  \")\n",
    "    work_log.append((message, t.now().astimezone().isoformat()))\n",
    "    print(f\"Welcome to work today {message}\")\n",
    "    if message == \"quit\":\n",
    "        active = False\n",
    "        print(\"You have succesfully logged out\")\n",
    "        break\n",
    "    else:\n",
    "        continue\n",
    "print(work_log)\n",
    "    "
   ]
  },
  {
   "cell_type": "code",
   "execution_count": 20,
   "metadata": {},
   "outputs": [],
   "source": [
    "def split_in_half(name):\n",
    "    name = name.split(\"and\")\n",
    "    part1 = name[0]\n",
    "    part2 = name[1]\n",
    "    print(part1, part2)"
   ]
  },
  {
   "cell_type": "code",
   "execution_count": 22,
   "metadata": {},
   "outputs": [
    {
     "name": "stdout",
     "output_type": "stream",
     "text": [
      "Moyo   Joshua\n"
     ]
    }
   ],
   "source": [
    "split_in_half(\"Moyo and Joshua\")"
   ]
  },
  {
   "cell_type": "code",
   "execution_count": 28,
   "metadata": {},
   "outputs": [
    {
     "name": "stdout",
     "output_type": "stream",
     "text": [
      "Ethan\n"
     ]
    }
   ],
   "source": [
    "class Dog():\n",
    "    \"\"\"A simple class to mdel dogs in python\"\"\"\n",
    "\n",
    "    def __init__(self, name, age):\n",
    "        self.name = name\n",
    "        self.age = age\n",
    "    def sit(self):\n",
    "        \"\"\"Simulate a dog sitting in response to a command\"\"\"\n",
    "        print(self.name.title() + \" is now sitting!\")\n",
    "    def roll_over(self):\n",
    "        \"\"\"Simulate a dog rolling over in response to a command\"\"\"\n",
    "        print(self.name.title() + \" rolled over!\")\n",
    "dog1 = Dog(\"David\", 10)\n",
    "dog2 = Dog(\"Ethan\", 14)\n",
    "print(dog2.name.title())"
   ]
  },
  {
   "cell_type": "code",
   "execution_count": 26,
   "metadata": {},
   "outputs": [
    {
     "name": "stdout",
     "output_type": "stream",
     "text": [
      "David rolled over!\n"
     ]
    }
   ],
   "source": [
    "dog1.sit()"
   ]
  },
  {
   "cell_type": "code",
   "execution_count": 29,
   "metadata": {},
   "outputs": [
    {
     "name": "stdout",
     "output_type": "stream",
     "text": [
      "Ethan rolled over!\n"
     ]
    }
   ],
   "source": [
    "dog2.roll_over()"
   ]
  }
 ],
 "metadata": {
  "kernelspec": {
   "display_name": "Python 3",
   "language": "python",
   "name": "python3"
  },
  "language_info": {
   "codemirror_mode": {
    "name": "ipython",
    "version": 3
   },
   "file_extension": ".py",
   "mimetype": "text/x-python",
   "name": "python",
   "nbconvert_exporter": "python",
   "pygments_lexer": "ipython3",
   "version": "3.10.8"
  },
  "orig_nbformat": 4
 },
 "nbformat": 4,
 "nbformat_minor": 2
}
